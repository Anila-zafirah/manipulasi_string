{
  "nbformat": 4,
  "nbformat_minor": 0,
  "metadata": {
    "colab": {
      "provenance": [],
      "include_colab_link": true
    },
    "kernelspec": {
      "name": "python3",
      "display_name": "Python 3"
    },
    "language_info": {
      "name": "python"
    }
  },
  "cells": [
    {
      "cell_type": "markdown",
      "metadata": {
        "id": "view-in-github",
        "colab_type": "text"
      },
      "source": [
        "<a href=\"https://colab.research.google.com/github/Anila-zafirah/manipulasi_string/blob/main/Anila_Tugas_Manipulasi_String.ipynb\" target=\"_parent\"><img src=\"https://colab.research.google.com/assets/colab-badge.svg\" alt=\"Open In Colab\"/></a>"
      ]
    },
    {
      "cell_type": "markdown",
      "source": [
        "buatlah class Catatan dengan atribut\n",
        "1. nama (string)\n",
        "2. nomor_absen (intejer)\n",
        "3. catatan (string)\n",
        "\n",
        "buat fungsi untuk\n",
        "1. menggabungkan semua atribut diatas menjadi sebuah kalimat menggunakan pertambahan string\n",
        "2. mencari kata dalam sebuah kalimat menggunakan fungsi in\n",
        "3. menggandakan jumlah kalimat menggunakan tanda perkalian *\n",
        "4. menghitung jumlah huruf dalam kalimat menggunakan len\n",
        "5. mencari kata pertama dalam kalimat menggunakan startswith"
      ],
      "metadata": {
        "id": "AIkziXKoHrlK"
      }
    },
    {
      "cell_type": "code",
      "source": [
        "#desain class\n",
        "class Catatan:\n",
        "  def __init__(self,nama, noabsen, catatan):\n",
        "    self.nama = nama\n",
        "    self.noabsen = noabsen\n",
        "    self.catatan = catatan\n",
        "\n",
        "  def gabung(self):\n",
        "    print(f'Saya {self.nama} nomor absen {self.noabsen}, {self.catatan}')\n",
        "\n",
        "  def cari(self, catat):\n",
        "    self.catat = catat\n",
        "    print(catat in self.catatan)\n",
        "\n",
        "  def kali(self):\n",
        "    print(self.noabsen * 100)\n",
        "\n",
        "  def hitunghuruf(self):\n",
        "    print(len(self.nama))\n",
        "\n",
        "  def katapertama(self):\n",
        "    print(self.nama.startswith('A'))"
      ],
      "metadata": {
        "id": "_YQuLGp_IA93"
      },
      "execution_count": 79,
      "outputs": []
    },
    {
      "cell_type": "code",
      "source": [
        "#main program\n",
        "catat = Catatan(\"Anila yaffa zafirah\", '3', \"Saya siswa dari SMKN 9 Malang\")\n",
        "\n",
        "catat.gabung()\n",
        "catat.cari('cara')\n",
        "catat.kali()\n",
        "catat.hitunghuruf()\n",
        "catat.katapertama()"
      ],
      "metadata": {
        "id": "QdIPVcTJID9Q",
        "colab": {
          "base_uri": "https://localhost:8080/"
        },
        "outputId": "21555e08-cac2-412a-ce5e-ee9c17ecb340"
      },
      "execution_count": 80,
      "outputs": [
        {
          "output_type": "stream",
          "name": "stdout",
          "text": [
            "Saya Anila yaffa zafirah nomor absen 3, Saya siswa dari SMKN 9 Malang\n",
            "False\n",
            "3333333333333333333333333333333333333333333333333333333333333333333333333333333333333333333333333333\n",
            "19\n",
            "True\n"
          ]
        }
      ]
    }
  ]
}